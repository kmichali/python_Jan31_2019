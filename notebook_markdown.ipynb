{
 "cells": [
  {
   "cell_type": "markdown",
   "metadata": {},
   "source": [
    "# Markdown crash course"
   ]
  },
  {
   "cell_type": "markdown",
   "metadata": {},
   "source": [
    "Notebook has command and markdown cells.\n",
    "\n",
    "# Heading1\n",
    "\n",
    "## Heading 2 \n",
    "\n",
    "*  Command cells are for python code. \n",
    "*  Markdown cells are for text. \n",
    "*  When done writing notes or code, press shift+enter to execute."
   ]
  },
  {
   "cell_type": "markdown",
   "metadata": {},
   "source": [
    "When writing text, line breaks\n",
    "do not matter.\n",
    "\n",
    "Empty lines create paragraphs.\n",
    "\n",
    "*   Use asterisks\n",
    "*   to create\n",
    "*   bullet lists."
   ]
  },
  {
   "cell_type": "markdown",
   "metadata": {},
   "source": [
    "1.  Use numbers\n",
    "1.  to create\n",
    "1.  numbered lists."
   ]
  },
  {
   "cell_type": "markdown",
   "metadata": {},
   "source": [
    "[Create links](http://www.imperial.ac.uk) \n",
    "\n",
    "[Python](http://python.org)\n",
    "\n",
    "create links with \"`[Imperial College](https://www.imperial.ac.uk)`\"."
   ]
  },
  {
   "cell_type": "code",
   "execution_count": 3,
   "metadata": {},
   "outputs": [],
   "source": [
    "# Display images in a code cell\n",
    "# Note the path must exist on the local hard drive\n",
    "\n",
    "from IPython.display import Image\n",
    "Image(filename = \"/Users/username/Desktop/images/somefile.png\")"
   ]
  }
 ],
 "metadata": {
  "kernelspec": {
   "display_name": "Python [default]",
   "language": "python",
   "name": "python3"
  },
  "language_info": {
   "codemirror_mode": {
    "name": "ipython",
    "version": 3
   },
   "file_extension": ".py",
   "mimetype": "text/x-python",
   "name": "python",
   "nbconvert_exporter": "python",
   "pygments_lexer": "ipython3",
   "version": "3.6.1"
  }
 },
 "nbformat": 4,
 "nbformat_minor": 2
}
