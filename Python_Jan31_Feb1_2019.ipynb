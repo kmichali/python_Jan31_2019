{
 "cells": [
  {
   "cell_type": "markdown",
   "metadata": {},
   "source": [
    "# Python class January 31 and February 1, 2019\n",
    "## live notebook\n",
    "<hr>"
   ]
  },
  {
   "cell_type": "code",
   "execution_count": 1,
   "metadata": {},
   "outputs": [
    {
     "data": {
      "text/plain": [
       "5"
      ]
     },
     "execution_count": 1,
     "metadata": {},
     "output_type": "execute_result"
    }
   ],
   "source": [
    "#Python as a calculator\n",
    "2+3"
   ]
  },
  {
   "cell_type": "code",
   "execution_count": 3,
   "metadata": {},
   "outputs": [
    {
     "data": {
      "text/plain": [
       "int"
      ]
     },
     "execution_count": 3,
     "metadata": {},
     "output_type": "execute_result"
    }
   ],
   "source": [
    "# Each number has a type\n",
    "b=3\n",
    "type(b)"
   ]
  },
  {
   "cell_type": "code",
   "execution_count": 63,
   "metadata": {},
   "outputs": [
    {
     "name": "stdout",
     "output_type": "stream",
     "text": [
      "<class 'int'>\n",
      "<class 'float'>\n"
     ]
    }
   ],
   "source": [
    "#Changing an integer to float type (real number)\n",
    "a=2\n",
    "print(type(a))\n",
    "a=float(a)\n",
    "print(type(a))"
   ]
  },
  {
   "cell_type": "code",
   "execution_count": 64,
   "metadata": {},
   "outputs": [
    {
     "name": "stdout",
     "output_type": "stream",
     "text": [
      "0.6666666666666666\n",
      "<class 'float'>\n"
     ]
    }
   ],
   "source": [
    "# In Python 3, division for two integers results in a type float\n",
    "# In Python 2, such division would result in an integer, this can lead to logical errors\n",
    "c=2/3\n",
    "print(c)\n",
    "print(type(c))"
   ]
  },
  {
   "cell_type": "code",
   "execution_count": 23,
   "metadata": {},
   "outputs": [
    {
     "name": "stdout",
     "output_type": "stream",
     "text": [
      "0\n",
      "<class 'int'>\n"
     ]
    }
   ],
   "source": [
    "# floor division operator \"//\"\n",
    "a=2\n",
    "b=3\n",
    "d = a//b\n",
    "print(d)\n",
    "print(type(d))"
   ]
  },
  {
   "cell_type": "code",
   "execution_count": 6,
   "metadata": {},
   "outputs": [
    {
     "name": "stdout",
     "output_type": "stream",
     "text": [
      "Hello\n",
      "H\n",
      "5\n",
      "last element o\n"
     ]
    }
   ],
   "source": [
    "# a variable that is not a number, is a string and it must be in quotes (single or double)\n",
    "# one can access individual characters of strings by index (starting with 0)\n",
    "s = \"Hello\"\n",
    "print(s)\n",
    "print(s[0])\n",
    "# get length of a string \n",
    "print(len(s))\n",
    "last_index=len(s)-1\n",
    "print(\"last element\", s[last_index])"
   ]
  },
  {
   "cell_type": "code",
   "execution_count": 25,
   "metadata": {},
   "outputs": [
    {
     "name": "stdout",
     "output_type": "stream",
     "text": [
      "ell\n",
      "Hell\n",
      "o\n",
      "l\n"
     ]
    }
   ],
   "source": [
    "# slice strings with [start:end(not included):step]\n",
    "# default value for start is 0, end is the last element, step is one\n",
    "print(s[1:4])\n",
    "print(s[:4])\n",
    "s[1:]\n",
    "# get last element with -1\n",
    "print(s[-1])\n",
    "# get second last with -2\n",
    "print(s[-2])"
   ]
  },
  {
   "cell_type": "code",
   "execution_count": 26,
   "metadata": {},
   "outputs": [
    {
     "data": {
      "text/plain": [
       "True"
      ]
     },
     "execution_count": 26,
     "metadata": {},
     "output_type": "execute_result"
    }
   ],
   "source": [
    "# test for substring, result is a boolean variable\n",
    "'Hell' in s"
   ]
  },
  {
   "cell_type": "code",
   "execution_count": 9,
   "metadata": {
    "collapsed": true
   },
   "outputs": [],
   "source": [
    "# strings are objects and have methods attached to them\n",
    "# find out what metods are available by printing variable_name + . + TAB key\n",
    "s.\n",
    "# find out about methods using variable_name.method_name?\n",
    "s.find?"
   ]
  },
  {
   "cell_type": "code",
   "execution_count": 10,
   "metadata": {},
   "outputs": [
    {
     "name": "stdout",
     "output_type": "stream",
     "text": [
      "HELLO\n",
      "Hello\n",
      "HELLO\n"
     ]
    }
   ],
   "source": [
    "# a method does not change the original string, one must save the result in another variabe\n",
    "print(s.upper())\n",
    "print(s)\n",
    "su = s.upper()\n",
    "print(su)"
   ]
  },
  {
   "cell_type": "code",
   "execution_count": 11,
   "metadata": {},
   "outputs": [
    {
     "ename": "TypeError",
     "evalue": "'str' object does not support item assignment",
     "output_type": "error",
     "traceback": [
      "\u001b[0;31m---------------------------------------------------------------------------\u001b[0m",
      "\u001b[0;31mTypeError\u001b[0m                                 Traceback (most recent call last)",
      "\u001b[0;32m<ipython-input-11-0f592616553c>\u001b[0m in \u001b[0;36m<module>\u001b[0;34m()\u001b[0m\n\u001b[0;32m----> 1\u001b[0;31m \u001b[0ms\u001b[0m\u001b[0;34m[\u001b[0m\u001b[0;36m0\u001b[0m\u001b[0;34m]\u001b[0m\u001b[0;34m=\u001b[0m\u001b[0;34m'B'\u001b[0m\u001b[0;34m\u001b[0m\u001b[0m\n\u001b[0m",
      "\u001b[0;31mTypeError\u001b[0m: 'str' object does not support item assignment"
     ]
    }
   ],
   "source": [
    "# strings are immutable, one cannot change them using direct assignment\n",
    "s[0]='B'"
   ]
  },
  {
   "cell_type": "code",
   "execution_count": 27,
   "metadata": {},
   "outputs": [
    {
     "name": "stdout",
     "output_type": "stream",
     "text": [
      "['Hello', 'class!']\n"
     ]
    },
    {
     "data": {
      "text/plain": [
       "list"
      ]
     },
     "execution_count": 27,
     "metadata": {},
     "output_type": "execute_result"
    }
   ],
   "source": [
    "# split method producs a list\n",
    "message=\"Hello class!\"\n",
    "l = message.split(' ')\n",
    "print(l)\n",
    "type(l)"
   ]
  },
  {
   "cell_type": "code",
   "execution_count": 28,
   "metadata": {
    "collapsed": true
   },
   "outputs": [],
   "source": [
    "# list is a collection\n",
    "# elements of a list can be of different types\n",
    "mix = [1, 'car', ['another', 'list']]\n",
    "zoo=['rat', 'mole', 'hyena', 'bat']"
   ]
  },
  {
   "cell_type": "code",
   "execution_count": 31,
   "metadata": {},
   "outputs": [
    {
     "name": "stdout",
     "output_type": "stream",
     "text": [
      "['rat', 'mole', 'hyena', 'bat', 'uglybug']\n",
      "['rat', 'mole', 'hyena', 'bat', 'uglybug', 'spider', 'multipede']\n",
      "['rat', 'mole', 'hyena', 'bat', 'uglybug', 'spider']\n",
      "['bat', 'hyena', 'mole', 'rat', 'spider', 'uglybug']\n",
      "['bat', 'hyena', 'rat', 'spider', 'uglybug']\n"
     ]
    }
   ],
   "source": [
    "# append method adds a single element of a single list\n",
    "zoo=['rat', 'mole', 'hyena', 'bat']\n",
    "zoo.append('uglybug')\n",
    "print(zoo)\n",
    "# extend adds multiple elelements\n",
    "zoo.extend(['spider', 'multipede'])\n",
    "print(zoo)\n",
    "# pop removes the last element\n",
    "zoo.pop()\n",
    "print(zoo)\n",
    "# sort sorts a list alphanumerically\n",
    "zoo.sort()\n",
    "print(zoo)\n",
    "# pop element with index 2\n",
    "zoo.pop(2)\n",
    "print(zoo)"
   ]
  },
  {
   "cell_type": "code",
   "execution_count": 32,
   "metadata": {},
   "outputs": [
    {
     "name": "stdout",
     "output_type": "stream",
     "text": [
      "['bat', 'hyena', 'mole', 'rat']\n"
     ]
    }
   ],
   "source": [
    "# note that list methods change the original list\n",
    "zoo=['rat', 'mole', 'hyena', 'bat']\n",
    "zoo.sort()\n",
    "print(zoo)"
   ]
  },
  {
   "cell_type": "code",
   "execution_count": 35,
   "metadata": {},
   "outputs": [
    {
     "name": "stdout",
     "output_type": "stream",
     "text": [
      "['white', 'blue', 'red', 'black']\n",
      "['white', 'green', 'red', 'black']\n"
     ]
    }
   ],
   "source": [
    "# exercise, replace 'blue' with 'green' in a following list\n",
    "colors=['white', 'blue','red','black']\n",
    "print(colors)\n",
    "index_blue=colors.index('blue')\n",
    "colors[index_blue]='green'\n",
    "# or all in one line - colors[colors.index('blue')] = 'green'\n",
    "print(colors)"
   ]
  },
  {
   "cell_type": "code",
   "execution_count": null,
   "metadata": {},
   "outputs": [],
   "source": [
    "# strings and lists behave differently in memory\n",
    "# a and b are stored in the same memory location\n",
    "a='banana'\n",
    "b='banana'\n",
    "a is b\n"
   ]
  },
  {
   "cell_type": "code",
   "execution_count": 36,
   "metadata": {},
   "outputs": [
    {
     "data": {
      "text/plain": [
       "False"
      ]
     },
     "execution_count": 36,
     "metadata": {},
     "output_type": "execute_result"
    }
   ],
   "source": [
    "# the same lists are stored in separate locations\n",
    "l1=[1,2,3]\n",
    "l2=[1,2,3]\n",
    "l1 is l2"
   ]
  },
  {
   "cell_type": "code",
   "execution_count": 43,
   "metadata": {},
   "outputs": [
    {
     "name": "stdout",
     "output_type": "stream",
     "text": [
      "True\n",
      "[6, 2, 3]\n",
      "[6, 2, 3]\n"
     ]
    }
   ],
   "source": [
    "# if you make a copy of a list using a direct assigment, \n",
    "# you end up with a single object in the memory\n",
    "l1=[1,2,3]\n",
    "lcopy = l1\n",
    "print(lcopy is l1)\n",
    "\n",
    "# if you then change one list, the other one is changed too\n",
    "# this could lead to an unexpected behaviour\n",
    "lcopy[0] = 6\n",
    "print(l1)\n",
    "print(lcopy)"
   ]
  },
  {
   "cell_type": "code",
   "execution_count": 44,
   "metadata": {},
   "outputs": [
    {
     "name": "stdout",
     "output_type": "stream",
     "text": [
      "False\n",
      "[1, 2, 3]\n",
      "[6, 2, 3]\n"
     ]
    }
   ],
   "source": [
    "# use a slice for a quick way to make a separate object in the memory \n",
    "l1=[1,2,3]\n",
    "lcopy = l1[:]\n",
    "print(lcopy is l1)\n",
    "\n",
    "# if you then change one list, the other one is safe\n",
    "lcopy[0] = 6\n",
    "print(l1)\n",
    "print(lcopy)"
   ]
  },
  {
   "cell_type": "code",
   "execution_count": null,
   "metadata": {},
   "outputs": [],
   "source": [
    "# tuples are immutable lists\n",
    "# instantiate a tuple with parentheses (these can be skipped)\n",
    "t = (3,4)\n",
    "t1 = (4,)\n",
    "t2 = 5,6\n",
    "\n",
    "# switch two values using tuple trick\n",
    "a=1\n",
    "b=2\n",
    "(a,b) = (b,a)\n",
    "print(a)\n",
    "print(b)\n",
    "\n",
    "# the \"normal\" way of switching two varibles\n",
    "#temp=b\n",
    "#b=a\n",
    "#a=temp\n",
    "\n"
   ]
  },
  {
   "cell_type": "code",
   "execution_count": 46,
   "metadata": {},
   "outputs": [
    {
     "name": "stdout",
     "output_type": "stream",
     "text": [
      "{'Bob': 223, 'Jan': 344}\n",
      "dict_keys(['Bob', 'Jan'])\n",
      "dict_values([223, 344])\n",
      "{'Jan': 344}\n"
     ]
    }
   ],
   "source": [
    "# dictionaries are list that have keys instead of indices, they contain key:value pairs\n",
    "# searching through a dictionary scales well since they are implemented as hash tables\n",
    "\n",
    "mydict={'Bob':223,'Jan':344}\n",
    "print(mydict)\n",
    "print(mydict.keys())\n",
    "print(mydict.values())\n",
    "mydict.pop('Bob')\n",
    "print(mydict)"
   ]
  },
  {
   "cell_type": "code",
   "execution_count": 47,
   "metadata": {},
   "outputs": [
    {
     "name": "stdout",
     "output_type": "stream",
     "text": [
      "1\n",
      "3\n",
      "5\n",
      "7\n",
      "9\n",
      "the end\n"
     ]
    }
   ],
   "source": [
    "# for loops can be used with range function (from, to_but_not_included, step)\n",
    "# the body of the loop must be indented\n",
    "for i in range(1,11,2):\n",
    "    print(i)\n",
    "print('the end')"
   ]
  },
  {
   "cell_type": "code",
   "execution_count": null,
   "metadata": {},
   "outputs": [],
   "source": [
    "# iterate through a string with for loop\n",
    "a = 'banana'\n",
    "for c in a:\n",
    "    print(c)\n",
    "    "
   ]
  },
  {
   "cell_type": "code",
   "execution_count": 51,
   "metadata": {},
   "outputs": [
    {
     "name": "stdout",
     "output_type": "stream",
     "text": [
      "white\n",
      "whitewhite\n",
      "blue\n",
      "blueblue\n",
      "red\n",
      "redred\n",
      "green\n",
      "greengreen\n",
      "black\n",
      "blackblack\n"
     ]
    }
   ],
   "source": [
    "# iterate through a list with for loop\n",
    "colors=['white', 'blue','red','green','black']\n",
    "for item in colors:\n",
    "    print(item)\n",
    "    item = item+item\n",
    "    print(item)   "
   ]
  },
  {
   "cell_type": "code",
   "execution_count": 48,
   "metadata": {},
   "outputs": [
    {
     "name": "stdout",
     "output_type": "stream",
     "text": [
      "100\n",
      "90\n",
      "80\n",
      "70\n",
      "60\n",
      "50\n",
      "40\n",
      "30\n",
      "20\n",
      "10\n",
      "0\n"
     ]
    }
   ],
   "source": [
    "# iterate backwards with range and a negative step \n",
    "for i in range(100,-1,-10):\n",
    "    print(i)"
   ]
  },
  {
   "cell_type": "code",
   "execution_count": 52,
   "metadata": {},
   "outputs": [
    {
     "name": "stdout",
     "output_type": "stream",
     "text": [
      "total time: 0.14859509468078613\n",
      "500000500000\n",
      "total time: 6.914138793945312e-05\n",
      "50000050000.0\n"
     ]
    }
   ],
   "source": [
    "# Loops are costly\n",
    "\n",
    "# time a loop that adds numbers\n",
    "import time\n",
    "sum=0\n",
    "start = time.time()\n",
    "for i in range(1,1000001):\n",
    "    sum=sum + i\n",
    "    \n",
    "print(\"total time:\", time.time() - start)\n",
    "print(sum)\n",
    "\n",
    "# time Gaussian addition\n",
    "sum=0\n",
    "start = time.time()\n",
    "sum= 0.5*(100000*1000001)\n",
    "print(\"total time:\", time.time() - start)\n",
    "print(sum)"
   ]
  },
  {
   "cell_type": "code",
   "execution_count": 53,
   "metadata": {},
   "outputs": [
    {
     "name": "stdout",
     "output_type": "stream",
     "text": [
      "4\n"
     ]
    }
   ],
   "source": [
    "# write your own function and call it:\n",
    "\n",
    "def mysquare(a):\n",
    "    return a*a\n",
    "\n",
    "print(mysquare(2))"
   ]
  },
  {
   "cell_type": "code",
   "execution_count": null,
   "metadata": {
    "collapsed": true
   },
   "outputs": [],
   "source": [
    "def myf(a,b):\n",
    "    return a-b\n",
    "\n",
    "diff = myf(10,3)\n",
    "print(diff)"
   ]
  },
  {
   "cell_type": "code",
   "execution_count": null,
   "metadata": {
    "collapsed": true
   },
   "outputs": [],
   "source": [
    "def mysq(a):\n",
    "    return a*a\n",
    "\n",
    "res = mysq(4)\n",
    "print(res)"
   ]
  },
  {
   "cell_type": "code",
   "execution_count": 56,
   "metadata": {},
   "outputs": [
    {
     "name": "stdout",
     "output_type": "stream",
     "text": [
      "equal\n"
     ]
    }
   ],
   "source": [
    "# conditionals\n",
    "# test equality with \"==\"\n",
    "\n",
    "a=1\n",
    "b=1\n",
    "\n",
    "if (a==b):\n",
    "    print('equal')\n",
    "else:\n",
    "    print('not equal')\n"
   ]
  },
  {
   "cell_type": "code",
   "execution_count": 58,
   "metadata": {},
   "outputs": [
    {
     "name": "stdout",
     "output_type": "stream",
     "text": [
      "13750.0\n"
     ]
    }
   ],
   "source": [
    "# calculate how much tax one has to pay on a house purchase;\n",
    "# there are 0%, 2%, 5%, 10% and 12% tax bands\n",
    "# in if/elif/else construct, only one single code block is executed\n",
    "\n",
    "price = 475000\n",
    "if price < 125000:\n",
    "    duty = 0\n",
    "elif price < 250000:\n",
    "    duty = (price - 125000)*0.02\n",
    "elif price < 925000:\n",
    "    duty = (125000 * 0.02) + (price - 250000)*0.05\n",
    "elif price < 1500000:\n",
    "    duty = (125000 * 0.02) + (675000 *0.05) + (price - 925000)*0.1\n",
    "else:\n",
    "    duty = (125000 * 0.02) + (675000 *0.05) + (575000*0.1) + (price - 1500000)*0.12\n",
    "print(duty)"
   ]
  },
  {
   "cell_type": "code",
   "execution_count": 61,
   "metadata": {},
   "outputs": [
    {
     "name": "stdout",
     "output_type": "stream",
     "text": [
      "file content:\n",
      "hello from the class\n",
      "current directory\n",
      "/Users/katerina/Desktop/docs/Beginner_Python_2019_Jan31\n"
     ]
    }
   ],
   "source": [
    "# writing files\n",
    "\n",
    "file = open(\"hello.txt\", 'w')\n",
    "file.write('hello from the class')\n",
    "file.close()\n",
    "print('file content:')\n",
    "!cat hello.txt\n",
    "# on windows: !type hello.txt\n",
    "!echo '' # new line\n",
    "print('current directory')\n",
    "!pwd\n",
    "# on windows: !cd"
   ]
  },
  {
   "cell_type": "code",
   "execution_count": 15,
   "metadata": {},
   "outputs": [
    {
     "name": "stdout",
     "output_type": "stream",
     "text": [
      "hello from the class\n"
     ]
    }
   ],
   "source": [
    "# reading files\n",
    "filein=open(\"hello.txt\",'r')\n",
    "content = filein.read()\n",
    "print(content)"
   ]
  },
  {
   "cell_type": "code",
   "execution_count": 19,
   "metadata": {},
   "outputs": [
    {
     "name": "stdout",
     "output_type": "stream",
     "text": [
      "ok"
     ]
    }
   ],
   "source": [
    "# appending to files\n",
    "file = open(\"nonsense.txt\", 'a')\n",
    "file.write('ok')\n",
    "!cat nonsense.txt"
   ]
  }
 ],
 "metadata": {
  "kernelspec": {
   "display_name": "Python [default]",
   "language": "python",
   "name": "python3"
  },
  "language_info": {
   "codemirror_mode": {
    "name": "ipython",
    "version": 3
   },
   "file_extension": ".py",
   "mimetype": "text/x-python",
   "name": "python",
   "nbconvert_exporter": "python",
   "pygments_lexer": "ipython3",
   "version": "3.6.1"
  }
 },
 "nbformat": 4,
 "nbformat_minor": 2
}
